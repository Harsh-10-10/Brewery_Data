{
 "cells": [
  {
   "cell_type": "code",
   "execution_count": 1,
   "id": "9b2bef0b",
   "metadata": {},
   "outputs": [],
   "source": [
    "import pandas as pd"
   ]
  },
  {
   "cell_type": "markdown",
   "id": "7784da8e",
   "metadata": {},
   "source": [
    "# Data collection"
   ]
  },
  {
   "cell_type": "code",
   "execution_count": 2,
   "id": "1f24a6ad",
   "metadata": {},
   "outputs": [
    {
     "data": {
      "text/html": [
       "<div>\n",
       "<style scoped>\n",
       "    .dataframe tbody tr th:only-of-type {\n",
       "        vertical-align: middle;\n",
       "    }\n",
       "\n",
       "    .dataframe tbody tr th {\n",
       "        vertical-align: top;\n",
       "    }\n",
       "\n",
       "    .dataframe thead th {\n",
       "        text-align: right;\n",
       "    }\n",
       "</style>\n",
       "<table border=\"1\" class=\"dataframe\">\n",
       "  <thead>\n",
       "    <tr style=\"text-align: right;\">\n",
       "      <th></th>\n",
       "      <th>id</th>\n",
       "      <th>name</th>\n",
       "      <th>brewery_type</th>\n",
       "      <th>street</th>\n",
       "      <th>city</th>\n",
       "      <th>state</th>\n",
       "      <th>postal_code</th>\n",
       "      <th>country</th>\n",
       "      <th>longitude</th>\n",
       "      <th>latitude</th>\n",
       "      <th>phone</th>\n",
       "      <th>website_url</th>\n",
       "    </tr>\n",
       "  </thead>\n",
       "  <tbody>\n",
       "    <tr>\n",
       "      <th>0</th>\n",
       "      <td>5128df48-79fc-4f0f-8b52-d06be54d0cec</td>\n",
       "      <td>(405) Brewing Co</td>\n",
       "      <td>micro</td>\n",
       "      <td>1716 Topeka St</td>\n",
       "      <td>Norman</td>\n",
       "      <td>Oklahoma</td>\n",
       "      <td>73069-8224</td>\n",
       "      <td>United States</td>\n",
       "      <td>-97.468182</td>\n",
       "      <td>35.257389</td>\n",
       "      <td>4058160490</td>\n",
       "      <td>http://www.405brewing.com</td>\n",
       "    </tr>\n",
       "    <tr>\n",
       "      <th>1</th>\n",
       "      <td>9c5a66c8-cc13-416f-a5d9-0a769c87d318</td>\n",
       "      <td>(512) Brewing Co</td>\n",
       "      <td>micro</td>\n",
       "      <td>407 Radam Ln Ste F200</td>\n",
       "      <td>Austin</td>\n",
       "      <td>Texas</td>\n",
       "      <td>78745-1197</td>\n",
       "      <td>United States</td>\n",
       "      <td>NaN</td>\n",
       "      <td>NaN</td>\n",
       "      <td>5129211545</td>\n",
       "      <td>http://www.512brewing.com</td>\n",
       "    </tr>\n",
       "    <tr>\n",
       "      <th>2</th>\n",
       "      <td>34e8c68b-6146-453f-a4b9-1f6cd99a5ada</td>\n",
       "      <td>1 of Us Brewing Company</td>\n",
       "      <td>micro</td>\n",
       "      <td>8100 Washington Ave</td>\n",
       "      <td>Mount Pleasant</td>\n",
       "      <td>Wisconsin</td>\n",
       "      <td>53406-3920</td>\n",
       "      <td>United States</td>\n",
       "      <td>-87.883364</td>\n",
       "      <td>42.720108</td>\n",
       "      <td>2624847553</td>\n",
       "      <td>https://www.1ofusbrewing.com</td>\n",
       "    </tr>\n",
       "    <tr>\n",
       "      <th>3</th>\n",
       "      <td>6d14b220-8926-4521-8d19-b98a2d6ec3db</td>\n",
       "      <td>10 Barrel Brewing Co</td>\n",
       "      <td>large</td>\n",
       "      <td>62970 18th St</td>\n",
       "      <td>Bend</td>\n",
       "      <td>Oregon</td>\n",
       "      <td>97701-9847</td>\n",
       "      <td>United States</td>\n",
       "      <td>-121.281706</td>\n",
       "      <td>44.086835</td>\n",
       "      <td>5415851007</td>\n",
       "      <td>http://www.10barrel.com</td>\n",
       "    </tr>\n",
       "    <tr>\n",
       "      <th>4</th>\n",
       "      <td>e2e78bd8-80ff-4a61-a65c-3bfbd9d76ce2</td>\n",
       "      <td>10 Barrel Brewing Co</td>\n",
       "      <td>large</td>\n",
       "      <td>1135 NW Galveston Ave Ste B</td>\n",
       "      <td>Bend</td>\n",
       "      <td>Oregon</td>\n",
       "      <td>97703-2465</td>\n",
       "      <td>United States</td>\n",
       "      <td>-121.328802</td>\n",
       "      <td>44.057565</td>\n",
       "      <td>5415851007</td>\n",
       "      <td>NaN</td>\n",
       "    </tr>\n",
       "    <tr>\n",
       "      <th>...</th>\n",
       "      <td>...</td>\n",
       "      <td>...</td>\n",
       "      <td>...</td>\n",
       "      <td>...</td>\n",
       "      <td>...</td>\n",
       "      <td>...</td>\n",
       "      <td>...</td>\n",
       "      <td>...</td>\n",
       "      <td>...</td>\n",
       "      <td>...</td>\n",
       "      <td>...</td>\n",
       "      <td>...</td>\n",
       "    </tr>\n",
       "    <tr>\n",
       "      <th>195</th>\n",
       "      <td>9c5acc37-15fa-4838-91ee-47bf27a94777</td>\n",
       "      <td>Abbey Brewing Company, LLC</td>\n",
       "      <td>micro</td>\n",
       "      <td>215 W. Alicante Rd</td>\n",
       "      <td>Santa Fe</td>\n",
       "      <td>New Mexico</td>\n",
       "      <td>87505</td>\n",
       "      <td>United States</td>\n",
       "      <td>-105.946521</td>\n",
       "      <td>35.665558</td>\n",
       "      <td>5056706802</td>\n",
       "      <td>http://www.abbeybrewing.biz</td>\n",
       "    </tr>\n",
       "    <tr>\n",
       "      <th>196</th>\n",
       "      <td>30d8f77b-aeec-4435-a280-16bacd1b1c97</td>\n",
       "      <td>Aberrant Ales</td>\n",
       "      <td>brewpub</td>\n",
       "      <td>219 W Grand River Ave</td>\n",
       "      <td>Howell</td>\n",
       "      <td>Michigan</td>\n",
       "      <td>48843</td>\n",
       "      <td>United States</td>\n",
       "      <td>-83.930945</td>\n",
       "      <td>42.607737</td>\n",
       "      <td>5175188699</td>\n",
       "      <td>http://www.aberrantales.com</td>\n",
       "    </tr>\n",
       "    <tr>\n",
       "      <th>197</th>\n",
       "      <td>b161916f-3f69-4f16-8059-eef9eee6877c</td>\n",
       "      <td>Abide Brewing Company</td>\n",
       "      <td>micro</td>\n",
       "      <td>110 Werz Industrial Blvd Ste 130</td>\n",
       "      <td>Newnan</td>\n",
       "      <td>Georgia</td>\n",
       "      <td>30263-5802</td>\n",
       "      <td>United States</td>\n",
       "      <td>-84.763566</td>\n",
       "      <td>33.402570</td>\n",
       "      <td>6789726747</td>\n",
       "      <td>http://www.abidebrewing.com</td>\n",
       "    </tr>\n",
       "    <tr>\n",
       "      <th>198</th>\n",
       "      <td>e2fa853c-ca91-4043-878d-0bcee9900ea3</td>\n",
       "      <td>Abigaile</td>\n",
       "      <td>brewpub</td>\n",
       "      <td>1301 Manhattan Ave</td>\n",
       "      <td>Hermosa Beach</td>\n",
       "      <td>California</td>\n",
       "      <td>90254-3666</td>\n",
       "      <td>United States</td>\n",
       "      <td>-118.404866</td>\n",
       "      <td>33.873452</td>\n",
       "      <td>3107988227</td>\n",
       "      <td>http://abigailrestaurant.com</td>\n",
       "    </tr>\n",
       "    <tr>\n",
       "      <th>199</th>\n",
       "      <td>c074ba4c-0b31-4344-a85a-7930df7fb410</td>\n",
       "      <td>Abita Brewing Co</td>\n",
       "      <td>regional</td>\n",
       "      <td>166 Barbee Rd</td>\n",
       "      <td>Covington</td>\n",
       "      <td>Louisiana</td>\n",
       "      <td>70433-8651</td>\n",
       "      <td>United States</td>\n",
       "      <td>-90.056477</td>\n",
       "      <td>30.481981</td>\n",
       "      <td>9858933143</td>\n",
       "      <td>http://www.abita.com</td>\n",
       "    </tr>\n",
       "  </tbody>\n",
       "</table>\n",
       "<p>200 rows × 12 columns</p>\n",
       "</div>"
      ],
      "text/plain": [
       "                                       id                        name  \\\n",
       "0    5128df48-79fc-4f0f-8b52-d06be54d0cec            (405) Brewing Co   \n",
       "1    9c5a66c8-cc13-416f-a5d9-0a769c87d318            (512) Brewing Co   \n",
       "2    34e8c68b-6146-453f-a4b9-1f6cd99a5ada     1 of Us Brewing Company   \n",
       "3    6d14b220-8926-4521-8d19-b98a2d6ec3db        10 Barrel Brewing Co   \n",
       "4    e2e78bd8-80ff-4a61-a65c-3bfbd9d76ce2        10 Barrel Brewing Co   \n",
       "..                                    ...                         ...   \n",
       "195  9c5acc37-15fa-4838-91ee-47bf27a94777  Abbey Brewing Company, LLC   \n",
       "196  30d8f77b-aeec-4435-a280-16bacd1b1c97               Aberrant Ales   \n",
       "197  b161916f-3f69-4f16-8059-eef9eee6877c       Abide Brewing Company   \n",
       "198  e2fa853c-ca91-4043-878d-0bcee9900ea3                    Abigaile   \n",
       "199  c074ba4c-0b31-4344-a85a-7930df7fb410            Abita Brewing Co   \n",
       "\n",
       "    brewery_type                            street            city  \\\n",
       "0          micro                    1716 Topeka St          Norman   \n",
       "1          micro             407 Radam Ln Ste F200          Austin   \n",
       "2          micro               8100 Washington Ave  Mount Pleasant   \n",
       "3          large                     62970 18th St            Bend   \n",
       "4          large       1135 NW Galveston Ave Ste B            Bend   \n",
       "..           ...                               ...             ...   \n",
       "195        micro                215 W. Alicante Rd        Santa Fe   \n",
       "196      brewpub             219 W Grand River Ave          Howell   \n",
       "197        micro  110 Werz Industrial Blvd Ste 130          Newnan   \n",
       "198      brewpub                1301 Manhattan Ave   Hermosa Beach   \n",
       "199     regional                     166 Barbee Rd       Covington   \n",
       "\n",
       "          state postal_code        country   longitude   latitude       phone  \\\n",
       "0      Oklahoma  73069-8224  United States  -97.468182  35.257389  4058160490   \n",
       "1         Texas  78745-1197  United States         NaN        NaN  5129211545   \n",
       "2     Wisconsin  53406-3920  United States  -87.883364  42.720108  2624847553   \n",
       "3        Oregon  97701-9847  United States -121.281706  44.086835  5415851007   \n",
       "4        Oregon  97703-2465  United States -121.328802  44.057565  5415851007   \n",
       "..          ...         ...            ...         ...        ...         ...   \n",
       "195  New Mexico       87505  United States -105.946521  35.665558  5056706802   \n",
       "196    Michigan       48843  United States  -83.930945  42.607737  5175188699   \n",
       "197     Georgia  30263-5802  United States  -84.763566  33.402570  6789726747   \n",
       "198  California  90254-3666  United States -118.404866  33.873452  3107988227   \n",
       "199   Louisiana  70433-8651  United States  -90.056477  30.481981  9858933143   \n",
       "\n",
       "                      website_url  \n",
       "0       http://www.405brewing.com  \n",
       "1       http://www.512brewing.com  \n",
       "2    https://www.1ofusbrewing.com  \n",
       "3         http://www.10barrel.com  \n",
       "4                             NaN  \n",
       "..                            ...  \n",
       "195   http://www.abbeybrewing.biz  \n",
       "196   http://www.aberrantales.com  \n",
       "197   http://www.abidebrewing.com  \n",
       "198  http://abigailrestaurant.com  \n",
       "199          http://www.abita.com  \n",
       "\n",
       "[200 rows x 12 columns]"
      ]
     },
     "execution_count": 2,
     "metadata": {},
     "output_type": "execute_result"
    }
   ],
   "source": [
    "df=pd.read_csv(\"open_breweries.csv\")\n",
    "df"
   ]
  },
  {
   "cell_type": "markdown",
   "id": "3484dba4",
   "metadata": {},
   "source": [
    "# Column Descriptions:\n",
    "id: Unique identifier for each brewery\n",
    "\n",
    "name: Name of the brewery\n",
    "\n",
    "brewery_type: Type/category of the brewery (e.g., micro, nano, brewpub)\n",
    "\n",
    "street: Street address of the brewery \n",
    "\n",
    "city: City where the brewery is located\n",
    "\n",
    "state: State or province where the brewery operates\n",
    "\n",
    "postal_code: ZIP or postal code of the brewery's location\n",
    "\n",
    "country: Country where the brewery is based\n",
    "\n",
    "longitude: Geographical longitude coordinate of the brewery\n",
    "\n",
    "latitude: Geographical latitude coordinate of the brewery\n",
    "\n",
    "phone: Contact phone number of the brewery\n",
    "\n",
    "website_url: Official website URL of the brewery\n"
   ]
  },
  {
   "cell_type": "markdown",
   "id": "7076fe72",
   "metadata": {},
   "source": [
    "# Data cleaning \n"
   ]
  },
  {
   "cell_type": "code",
   "execution_count": 3,
   "id": "4ecf87ad",
   "metadata": {},
   "outputs": [
    {
     "name": "stdout",
     "output_type": "stream",
     "text": [
      "<class 'pandas.core.frame.DataFrame'>\n",
      "RangeIndex: 200 entries, 0 to 199\n",
      "Data columns (total 12 columns):\n",
      " #   Column        Non-Null Count  Dtype  \n",
      "---  ------        --------------  -----  \n",
      " 0   id            200 non-null    object \n",
      " 1   name          200 non-null    object \n",
      " 2   brewery_type  200 non-null    object \n",
      " 3   street        184 non-null    object \n",
      " 4   city          200 non-null    object \n",
      " 5   state         200 non-null    object \n",
      " 6   postal_code   200 non-null    object \n",
      " 7   country       200 non-null    object \n",
      " 8   longitude     148 non-null    float64\n",
      " 9   latitude      148 non-null    float64\n",
      " 10  phone         182 non-null    object \n",
      " 11  website_url   169 non-null    object \n",
      "dtypes: float64(2), object(10)\n",
      "memory usage: 18.9+ KB\n"
     ]
    }
   ],
   "source": [
    "df.info()"
   ]
  },
  {
   "cell_type": "code",
   "execution_count": 4,
   "id": "0246f353",
   "metadata": {},
   "outputs": [
    {
     "data": {
      "text/plain": [
       "(200, 12)"
      ]
     },
     "execution_count": 4,
     "metadata": {},
     "output_type": "execute_result"
    }
   ],
   "source": [
    "df.shape"
   ]
  },
  {
   "cell_type": "code",
   "execution_count": 5,
   "id": "076830a8",
   "metadata": {},
   "outputs": [
    {
     "data": {
      "text/plain": [
       "id               0\n",
       "name             0\n",
       "brewery_type     0\n",
       "street          16\n",
       "city             0\n",
       "state            0\n",
       "postal_code      0\n",
       "country          0\n",
       "longitude       52\n",
       "latitude        52\n",
       "phone           18\n",
       "website_url     31\n",
       "dtype: int64"
      ]
     },
     "execution_count": 5,
     "metadata": {},
     "output_type": "execute_result"
    }
   ],
   "source": [
    "df.isnull().sum()"
   ]
  },
  {
   "cell_type": "code",
   "execution_count": 6,
   "id": "a0bb73ab",
   "metadata": {},
   "outputs": [],
   "source": [
    "# All columns are in snake_case\n",
    "# Handle Null values\n",
    "\n",
    "df['website_url'] = df['website_url'].fillna(\"No Website\")\n",
    "df['phone']=df['phone'].fillna(\"No phone\")\n",
    "df['street']=df['street'].fillna(\"No street\")"
   ]
  },
  {
   "cell_type": "code",
   "execution_count": 7,
   "id": "c8da8880",
   "metadata": {},
   "outputs": [],
   "source": [
    "# dropping the value\n",
    "del df['latitude']"
   ]
  },
  {
   "cell_type": "code",
   "execution_count": 8,
   "id": "b46035c4",
   "metadata": {},
   "outputs": [],
   "source": [
    "del df['longitude']"
   ]
  },
  {
   "cell_type": "code",
   "execution_count": 9,
   "id": "7311faa8",
   "metadata": {},
   "outputs": [
    {
     "data": {
      "text/html": [
       "<div>\n",
       "<style scoped>\n",
       "    .dataframe tbody tr th:only-of-type {\n",
       "        vertical-align: middle;\n",
       "    }\n",
       "\n",
       "    .dataframe tbody tr th {\n",
       "        vertical-align: top;\n",
       "    }\n",
       "\n",
       "    .dataframe thead th {\n",
       "        text-align: right;\n",
       "    }\n",
       "</style>\n",
       "<table border=\"1\" class=\"dataframe\">\n",
       "  <thead>\n",
       "    <tr style=\"text-align: right;\">\n",
       "      <th></th>\n",
       "      <th>id</th>\n",
       "      <th>name</th>\n",
       "      <th>brewery_type</th>\n",
       "      <th>street</th>\n",
       "      <th>city</th>\n",
       "      <th>state</th>\n",
       "      <th>postal_code</th>\n",
       "      <th>country</th>\n",
       "      <th>phone</th>\n",
       "      <th>website_url</th>\n",
       "    </tr>\n",
       "  </thead>\n",
       "  <tbody>\n",
       "    <tr>\n",
       "      <th>0</th>\n",
       "      <td>5128df48-79fc-4f0f-8b52-d06be54d0cec</td>\n",
       "      <td>(405) Brewing Co</td>\n",
       "      <td>micro</td>\n",
       "      <td>1716 Topeka St</td>\n",
       "      <td>Norman</td>\n",
       "      <td>Oklahoma</td>\n",
       "      <td>73069-8224</td>\n",
       "      <td>United States</td>\n",
       "      <td>4058160490</td>\n",
       "      <td>http://www.405brewing.com</td>\n",
       "    </tr>\n",
       "    <tr>\n",
       "      <th>1</th>\n",
       "      <td>9c5a66c8-cc13-416f-a5d9-0a769c87d318</td>\n",
       "      <td>(512) Brewing Co</td>\n",
       "      <td>micro</td>\n",
       "      <td>407 Radam Ln Ste F200</td>\n",
       "      <td>Austin</td>\n",
       "      <td>Texas</td>\n",
       "      <td>78745-1197</td>\n",
       "      <td>United States</td>\n",
       "      <td>5129211545</td>\n",
       "      <td>http://www.512brewing.com</td>\n",
       "    </tr>\n",
       "    <tr>\n",
       "      <th>2</th>\n",
       "      <td>34e8c68b-6146-453f-a4b9-1f6cd99a5ada</td>\n",
       "      <td>1 of Us Brewing Company</td>\n",
       "      <td>micro</td>\n",
       "      <td>8100 Washington Ave</td>\n",
       "      <td>Mount Pleasant</td>\n",
       "      <td>Wisconsin</td>\n",
       "      <td>53406-3920</td>\n",
       "      <td>United States</td>\n",
       "      <td>2624847553</td>\n",
       "      <td>https://www.1ofusbrewing.com</td>\n",
       "    </tr>\n",
       "    <tr>\n",
       "      <th>3</th>\n",
       "      <td>6d14b220-8926-4521-8d19-b98a2d6ec3db</td>\n",
       "      <td>10 Barrel Brewing Co</td>\n",
       "      <td>large</td>\n",
       "      <td>62970 18th St</td>\n",
       "      <td>Bend</td>\n",
       "      <td>Oregon</td>\n",
       "      <td>97701-9847</td>\n",
       "      <td>United States</td>\n",
       "      <td>5415851007</td>\n",
       "      <td>http://www.10barrel.com</td>\n",
       "    </tr>\n",
       "    <tr>\n",
       "      <th>4</th>\n",
       "      <td>e2e78bd8-80ff-4a61-a65c-3bfbd9d76ce2</td>\n",
       "      <td>10 Barrel Brewing Co</td>\n",
       "      <td>large</td>\n",
       "      <td>1135 NW Galveston Ave Ste B</td>\n",
       "      <td>Bend</td>\n",
       "      <td>Oregon</td>\n",
       "      <td>97703-2465</td>\n",
       "      <td>United States</td>\n",
       "      <td>5415851007</td>\n",
       "      <td>No Website</td>\n",
       "    </tr>\n",
       "    <tr>\n",
       "      <th>...</th>\n",
       "      <td>...</td>\n",
       "      <td>...</td>\n",
       "      <td>...</td>\n",
       "      <td>...</td>\n",
       "      <td>...</td>\n",
       "      <td>...</td>\n",
       "      <td>...</td>\n",
       "      <td>...</td>\n",
       "      <td>...</td>\n",
       "      <td>...</td>\n",
       "    </tr>\n",
       "    <tr>\n",
       "      <th>195</th>\n",
       "      <td>9c5acc37-15fa-4838-91ee-47bf27a94777</td>\n",
       "      <td>Abbey Brewing Company, LLC</td>\n",
       "      <td>micro</td>\n",
       "      <td>215 W. Alicante Rd</td>\n",
       "      <td>Santa Fe</td>\n",
       "      <td>New Mexico</td>\n",
       "      <td>87505</td>\n",
       "      <td>United States</td>\n",
       "      <td>5056706802</td>\n",
       "      <td>http://www.abbeybrewing.biz</td>\n",
       "    </tr>\n",
       "    <tr>\n",
       "      <th>196</th>\n",
       "      <td>30d8f77b-aeec-4435-a280-16bacd1b1c97</td>\n",
       "      <td>Aberrant Ales</td>\n",
       "      <td>brewpub</td>\n",
       "      <td>219 W Grand River Ave</td>\n",
       "      <td>Howell</td>\n",
       "      <td>Michigan</td>\n",
       "      <td>48843</td>\n",
       "      <td>United States</td>\n",
       "      <td>5175188699</td>\n",
       "      <td>http://www.aberrantales.com</td>\n",
       "    </tr>\n",
       "    <tr>\n",
       "      <th>197</th>\n",
       "      <td>b161916f-3f69-4f16-8059-eef9eee6877c</td>\n",
       "      <td>Abide Brewing Company</td>\n",
       "      <td>micro</td>\n",
       "      <td>110 Werz Industrial Blvd Ste 130</td>\n",
       "      <td>Newnan</td>\n",
       "      <td>Georgia</td>\n",
       "      <td>30263-5802</td>\n",
       "      <td>United States</td>\n",
       "      <td>6789726747</td>\n",
       "      <td>http://www.abidebrewing.com</td>\n",
       "    </tr>\n",
       "    <tr>\n",
       "      <th>198</th>\n",
       "      <td>e2fa853c-ca91-4043-878d-0bcee9900ea3</td>\n",
       "      <td>Abigaile</td>\n",
       "      <td>brewpub</td>\n",
       "      <td>1301 Manhattan Ave</td>\n",
       "      <td>Hermosa Beach</td>\n",
       "      <td>California</td>\n",
       "      <td>90254-3666</td>\n",
       "      <td>United States</td>\n",
       "      <td>3107988227</td>\n",
       "      <td>http://abigailrestaurant.com</td>\n",
       "    </tr>\n",
       "    <tr>\n",
       "      <th>199</th>\n",
       "      <td>c074ba4c-0b31-4344-a85a-7930df7fb410</td>\n",
       "      <td>Abita Brewing Co</td>\n",
       "      <td>regional</td>\n",
       "      <td>166 Barbee Rd</td>\n",
       "      <td>Covington</td>\n",
       "      <td>Louisiana</td>\n",
       "      <td>70433-8651</td>\n",
       "      <td>United States</td>\n",
       "      <td>9858933143</td>\n",
       "      <td>http://www.abita.com</td>\n",
       "    </tr>\n",
       "  </tbody>\n",
       "</table>\n",
       "<p>200 rows × 10 columns</p>\n",
       "</div>"
      ],
      "text/plain": [
       "                                       id                        name  \\\n",
       "0    5128df48-79fc-4f0f-8b52-d06be54d0cec            (405) Brewing Co   \n",
       "1    9c5a66c8-cc13-416f-a5d9-0a769c87d318            (512) Brewing Co   \n",
       "2    34e8c68b-6146-453f-a4b9-1f6cd99a5ada     1 of Us Brewing Company   \n",
       "3    6d14b220-8926-4521-8d19-b98a2d6ec3db        10 Barrel Brewing Co   \n",
       "4    e2e78bd8-80ff-4a61-a65c-3bfbd9d76ce2        10 Barrel Brewing Co   \n",
       "..                                    ...                         ...   \n",
       "195  9c5acc37-15fa-4838-91ee-47bf27a94777  Abbey Brewing Company, LLC   \n",
       "196  30d8f77b-aeec-4435-a280-16bacd1b1c97               Aberrant Ales   \n",
       "197  b161916f-3f69-4f16-8059-eef9eee6877c       Abide Brewing Company   \n",
       "198  e2fa853c-ca91-4043-878d-0bcee9900ea3                    Abigaile   \n",
       "199  c074ba4c-0b31-4344-a85a-7930df7fb410            Abita Brewing Co   \n",
       "\n",
       "    brewery_type                            street            city  \\\n",
       "0          micro                    1716 Topeka St          Norman   \n",
       "1          micro             407 Radam Ln Ste F200          Austin   \n",
       "2          micro               8100 Washington Ave  Mount Pleasant   \n",
       "3          large                     62970 18th St            Bend   \n",
       "4          large       1135 NW Galveston Ave Ste B            Bend   \n",
       "..           ...                               ...             ...   \n",
       "195        micro                215 W. Alicante Rd        Santa Fe   \n",
       "196      brewpub             219 W Grand River Ave          Howell   \n",
       "197        micro  110 Werz Industrial Blvd Ste 130          Newnan   \n",
       "198      brewpub                1301 Manhattan Ave   Hermosa Beach   \n",
       "199     regional                     166 Barbee Rd       Covington   \n",
       "\n",
       "          state postal_code        country       phone  \\\n",
       "0      Oklahoma  73069-8224  United States  4058160490   \n",
       "1         Texas  78745-1197  United States  5129211545   \n",
       "2     Wisconsin  53406-3920  United States  2624847553   \n",
       "3        Oregon  97701-9847  United States  5415851007   \n",
       "4        Oregon  97703-2465  United States  5415851007   \n",
       "..          ...         ...            ...         ...   \n",
       "195  New Mexico       87505  United States  5056706802   \n",
       "196    Michigan       48843  United States  5175188699   \n",
       "197     Georgia  30263-5802  United States  6789726747   \n",
       "198  California  90254-3666  United States  3107988227   \n",
       "199   Louisiana  70433-8651  United States  9858933143   \n",
       "\n",
       "                      website_url  \n",
       "0       http://www.405brewing.com  \n",
       "1       http://www.512brewing.com  \n",
       "2    https://www.1ofusbrewing.com  \n",
       "3         http://www.10barrel.com  \n",
       "4                      No Website  \n",
       "..                            ...  \n",
       "195   http://www.abbeybrewing.biz  \n",
       "196   http://www.aberrantales.com  \n",
       "197   http://www.abidebrewing.com  \n",
       "198  http://abigailrestaurant.com  \n",
       "199          http://www.abita.com  \n",
       "\n",
       "[200 rows x 10 columns]"
      ]
     },
     "execution_count": 9,
     "metadata": {},
     "output_type": "execute_result"
    }
   ],
   "source": [
    "df"
   ]
  },
  {
   "cell_type": "code",
   "execution_count": 10,
   "id": "5c219cd2",
   "metadata": {},
   "outputs": [
    {
     "data": {
      "text/plain": [
       "id              0\n",
       "name            0\n",
       "brewery_type    0\n",
       "street          0\n",
       "city            0\n",
       "state           0\n",
       "postal_code     0\n",
       "country         0\n",
       "phone           0\n",
       "website_url     0\n",
       "dtype: int64"
      ]
     },
     "execution_count": 10,
     "metadata": {},
     "output_type": "execute_result"
    }
   ],
   "source": [
    "df.isnull().sum()"
   ]
  },
  {
   "cell_type": "code",
   "execution_count": 11,
   "id": "bdbf2d9d",
   "metadata": {},
   "outputs": [
    {
     "data": {
      "text/plain": [
       "(200, 10)"
      ]
     },
     "execution_count": 11,
     "metadata": {},
     "output_type": "execute_result"
    }
   ],
   "source": [
    "df.shape    # shape has changed"
   ]
  },
  {
   "cell_type": "code",
   "execution_count": 12,
   "id": "4543ddaf",
   "metadata": {},
   "outputs": [
    {
     "data": {
      "text/plain": [
       "0"
      ]
     },
     "execution_count": 12,
     "metadata": {},
     "output_type": "execute_result"
    }
   ],
   "source": [
    "# check for th duplicate value \n",
    "df.duplicated().sum()"
   ]
  },
  {
   "cell_type": "code",
   "execution_count": 13,
   "id": "953d189a",
   "metadata": {},
   "outputs": [
    {
     "data": {
      "text/plain": [
       "200"
      ]
     },
     "execution_count": 13,
     "metadata": {},
     "output_type": "execute_result"
    }
   ],
   "source": [
    "df['id'].nunique()"
   ]
  },
  {
   "cell_type": "code",
   "execution_count": 14,
   "id": "7cd19c83",
   "metadata": {},
   "outputs": [
    {
     "name": "stdout",
     "output_type": "stream",
     "text": [
      " Cleaned data saved to cleaned_open_breweries.csv\n"
     ]
    }
   ],
   "source": [
    "df.to_csv(\"cleaned_open_breweries.csv\", index=False)\n",
    "print(\" Cleaned data saved to cleaned_open_breweries.csv\")"
   ]
  },
  {
   "cell_type": "markdown",
   "id": "0d88d3c6",
   "metadata": {},
   "source": [
    " data is cleaned now"
   ]
  },
  {
   "cell_type": "markdown",
   "id": "e1e58625",
   "metadata": {},
   "source": [
    "# Analysis"
   ]
  },
  {
   "cell_type": "code",
   "execution_count": 15,
   "id": "3d0d7bdf",
   "metadata": {},
   "outputs": [
    {
     "name": "stdout",
     "output_type": "stream",
     "text": [
      "Defaulting to user installation because normal site-packages is not writeable\n",
      "Requirement already satisfied: matplotlib in c:\\programdata\\anaconda3\\lib\\site-packages (3.8.4)\n",
      "Requirement already satisfied: seaborn in c:\\programdata\\anaconda3\\lib\\site-packages (0.13.2)\n",
      "Requirement already satisfied: contourpy>=1.0.1 in c:\\programdata\\anaconda3\\lib\\site-packages (from matplotlib) (1.2.0)\n",
      "Requirement already satisfied: cycler>=0.10 in c:\\programdata\\anaconda3\\lib\\site-packages (from matplotlib) (0.11.0)\n",
      "Requirement already satisfied: fonttools>=4.22.0 in c:\\programdata\\anaconda3\\lib\\site-packages (from matplotlib) (4.51.0)\n",
      "Requirement already satisfied: kiwisolver>=1.3.1 in c:\\programdata\\anaconda3\\lib\\site-packages (from matplotlib) (1.4.4)\n",
      "Requirement already satisfied: numpy>=1.21 in c:\\users\\harsh\\appdata\\roaming\\python\\python312\\site-packages (from matplotlib) (1.26.4)\n",
      "Requirement already satisfied: packaging>=20.0 in c:\\users\\harsh\\appdata\\roaming\\python\\python312\\site-packages (from matplotlib) (23.2)\n",
      "Requirement already satisfied: pillow>=8 in c:\\programdata\\anaconda3\\lib\\site-packages (from matplotlib) (10.3.0)\n",
      "Requirement already satisfied: pyparsing>=2.3.1 in c:\\programdata\\anaconda3\\lib\\site-packages (from matplotlib) (3.0.9)\n",
      "Requirement already satisfied: python-dateutil>=2.7 in c:\\users\\harsh\\appdata\\roaming\\python\\python312\\site-packages (from matplotlib) (2.9.0.post0)\n",
      "Requirement already satisfied: pandas>=1.2 in c:\\users\\harsh\\appdata\\roaming\\python\\python312\\site-packages (from seaborn) (2.2.2)\n",
      "Requirement already satisfied: pytz>=2020.1 in c:\\users\\harsh\\appdata\\roaming\\python\\python312\\site-packages (from pandas>=1.2->seaborn) (2024.1)\n",
      "Requirement already satisfied: tzdata>=2022.7 in c:\\users\\harsh\\appdata\\roaming\\python\\python312\\site-packages (from pandas>=1.2->seaborn) (2024.1)\n",
      "Requirement already satisfied: six>=1.5 in c:\\users\\harsh\\appdata\\roaming\\python\\python312\\site-packages (from python-dateutil>=2.7->matplotlib) (1.16.0)\n"
     ]
    }
   ],
   "source": [
    "!pip install matplotlib seaborn\n"
   ]
  },
  {
   "cell_type": "code",
   "execution_count": 16,
   "id": "242c31a7",
   "metadata": {},
   "outputs": [],
   "source": [
    "import pandas as pd\n",
    "import matplotlib.pyplot  as plt\n",
    "import seaborn as sns"
   ]
  },
  {
   "cell_type": "code",
   "execution_count": 17,
   "id": "535b2180",
   "metadata": {},
   "outputs": [
    {
     "data": {
      "text/html": [
       "<div>\n",
       "<style scoped>\n",
       "    .dataframe tbody tr th:only-of-type {\n",
       "        vertical-align: middle;\n",
       "    }\n",
       "\n",
       "    .dataframe tbody tr th {\n",
       "        vertical-align: top;\n",
       "    }\n",
       "\n",
       "    .dataframe thead th {\n",
       "        text-align: right;\n",
       "    }\n",
       "</style>\n",
       "<table border=\"1\" class=\"dataframe\">\n",
       "  <thead>\n",
       "    <tr style=\"text-align: right;\">\n",
       "      <th></th>\n",
       "      <th>id</th>\n",
       "      <th>name</th>\n",
       "      <th>brewery_type</th>\n",
       "      <th>street</th>\n",
       "      <th>city</th>\n",
       "      <th>state</th>\n",
       "      <th>postal_code</th>\n",
       "      <th>country</th>\n",
       "      <th>phone</th>\n",
       "      <th>website_url</th>\n",
       "    </tr>\n",
       "  </thead>\n",
       "  <tbody>\n",
       "    <tr>\n",
       "      <th>0</th>\n",
       "      <td>5128df48-79fc-4f0f-8b52-d06be54d0cec</td>\n",
       "      <td>(405) Brewing Co</td>\n",
       "      <td>micro</td>\n",
       "      <td>1716 Topeka St</td>\n",
       "      <td>Norman</td>\n",
       "      <td>Oklahoma</td>\n",
       "      <td>73069-8224</td>\n",
       "      <td>United States</td>\n",
       "      <td>4058160490</td>\n",
       "      <td>http://www.405brewing.com</td>\n",
       "    </tr>\n",
       "    <tr>\n",
       "      <th>1</th>\n",
       "      <td>9c5a66c8-cc13-416f-a5d9-0a769c87d318</td>\n",
       "      <td>(512) Brewing Co</td>\n",
       "      <td>micro</td>\n",
       "      <td>407 Radam Ln Ste F200</td>\n",
       "      <td>Austin</td>\n",
       "      <td>Texas</td>\n",
       "      <td>78745-1197</td>\n",
       "      <td>United States</td>\n",
       "      <td>5129211545</td>\n",
       "      <td>http://www.512brewing.com</td>\n",
       "    </tr>\n",
       "    <tr>\n",
       "      <th>2</th>\n",
       "      <td>34e8c68b-6146-453f-a4b9-1f6cd99a5ada</td>\n",
       "      <td>1 of Us Brewing Company</td>\n",
       "      <td>micro</td>\n",
       "      <td>8100 Washington Ave</td>\n",
       "      <td>Mount Pleasant</td>\n",
       "      <td>Wisconsin</td>\n",
       "      <td>53406-3920</td>\n",
       "      <td>United States</td>\n",
       "      <td>2624847553</td>\n",
       "      <td>https://www.1ofusbrewing.com</td>\n",
       "    </tr>\n",
       "    <tr>\n",
       "      <th>3</th>\n",
       "      <td>6d14b220-8926-4521-8d19-b98a2d6ec3db</td>\n",
       "      <td>10 Barrel Brewing Co</td>\n",
       "      <td>large</td>\n",
       "      <td>62970 18th St</td>\n",
       "      <td>Bend</td>\n",
       "      <td>Oregon</td>\n",
       "      <td>97701-9847</td>\n",
       "      <td>United States</td>\n",
       "      <td>5415851007</td>\n",
       "      <td>http://www.10barrel.com</td>\n",
       "    </tr>\n",
       "    <tr>\n",
       "      <th>4</th>\n",
       "      <td>e2e78bd8-80ff-4a61-a65c-3bfbd9d76ce2</td>\n",
       "      <td>10 Barrel Brewing Co</td>\n",
       "      <td>large</td>\n",
       "      <td>1135 NW Galveston Ave Ste B</td>\n",
       "      <td>Bend</td>\n",
       "      <td>Oregon</td>\n",
       "      <td>97703-2465</td>\n",
       "      <td>United States</td>\n",
       "      <td>5415851007</td>\n",
       "      <td>No Website</td>\n",
       "    </tr>\n",
       "    <tr>\n",
       "      <th>...</th>\n",
       "      <td>...</td>\n",
       "      <td>...</td>\n",
       "      <td>...</td>\n",
       "      <td>...</td>\n",
       "      <td>...</td>\n",
       "      <td>...</td>\n",
       "      <td>...</td>\n",
       "      <td>...</td>\n",
       "      <td>...</td>\n",
       "      <td>...</td>\n",
       "    </tr>\n",
       "    <tr>\n",
       "      <th>195</th>\n",
       "      <td>9c5acc37-15fa-4838-91ee-47bf27a94777</td>\n",
       "      <td>Abbey Brewing Company, LLC</td>\n",
       "      <td>micro</td>\n",
       "      <td>215 W. Alicante Rd</td>\n",
       "      <td>Santa Fe</td>\n",
       "      <td>New Mexico</td>\n",
       "      <td>87505</td>\n",
       "      <td>United States</td>\n",
       "      <td>5056706802</td>\n",
       "      <td>http://www.abbeybrewing.biz</td>\n",
       "    </tr>\n",
       "    <tr>\n",
       "      <th>196</th>\n",
       "      <td>30d8f77b-aeec-4435-a280-16bacd1b1c97</td>\n",
       "      <td>Aberrant Ales</td>\n",
       "      <td>brewpub</td>\n",
       "      <td>219 W Grand River Ave</td>\n",
       "      <td>Howell</td>\n",
       "      <td>Michigan</td>\n",
       "      <td>48843</td>\n",
       "      <td>United States</td>\n",
       "      <td>5175188699</td>\n",
       "      <td>http://www.aberrantales.com</td>\n",
       "    </tr>\n",
       "    <tr>\n",
       "      <th>197</th>\n",
       "      <td>b161916f-3f69-4f16-8059-eef9eee6877c</td>\n",
       "      <td>Abide Brewing Company</td>\n",
       "      <td>micro</td>\n",
       "      <td>110 Werz Industrial Blvd Ste 130</td>\n",
       "      <td>Newnan</td>\n",
       "      <td>Georgia</td>\n",
       "      <td>30263-5802</td>\n",
       "      <td>United States</td>\n",
       "      <td>6789726747</td>\n",
       "      <td>http://www.abidebrewing.com</td>\n",
       "    </tr>\n",
       "    <tr>\n",
       "      <th>198</th>\n",
       "      <td>e2fa853c-ca91-4043-878d-0bcee9900ea3</td>\n",
       "      <td>Abigaile</td>\n",
       "      <td>brewpub</td>\n",
       "      <td>1301 Manhattan Ave</td>\n",
       "      <td>Hermosa Beach</td>\n",
       "      <td>California</td>\n",
       "      <td>90254-3666</td>\n",
       "      <td>United States</td>\n",
       "      <td>3107988227</td>\n",
       "      <td>http://abigailrestaurant.com</td>\n",
       "    </tr>\n",
       "    <tr>\n",
       "      <th>199</th>\n",
       "      <td>c074ba4c-0b31-4344-a85a-7930df7fb410</td>\n",
       "      <td>Abita Brewing Co</td>\n",
       "      <td>regional</td>\n",
       "      <td>166 Barbee Rd</td>\n",
       "      <td>Covington</td>\n",
       "      <td>Louisiana</td>\n",
       "      <td>70433-8651</td>\n",
       "      <td>United States</td>\n",
       "      <td>9858933143</td>\n",
       "      <td>http://www.abita.com</td>\n",
       "    </tr>\n",
       "  </tbody>\n",
       "</table>\n",
       "<p>200 rows × 10 columns</p>\n",
       "</div>"
      ],
      "text/plain": [
       "                                       id                        name  \\\n",
       "0    5128df48-79fc-4f0f-8b52-d06be54d0cec            (405) Brewing Co   \n",
       "1    9c5a66c8-cc13-416f-a5d9-0a769c87d318            (512) Brewing Co   \n",
       "2    34e8c68b-6146-453f-a4b9-1f6cd99a5ada     1 of Us Brewing Company   \n",
       "3    6d14b220-8926-4521-8d19-b98a2d6ec3db        10 Barrel Brewing Co   \n",
       "4    e2e78bd8-80ff-4a61-a65c-3bfbd9d76ce2        10 Barrel Brewing Co   \n",
       "..                                    ...                         ...   \n",
       "195  9c5acc37-15fa-4838-91ee-47bf27a94777  Abbey Brewing Company, LLC   \n",
       "196  30d8f77b-aeec-4435-a280-16bacd1b1c97               Aberrant Ales   \n",
       "197  b161916f-3f69-4f16-8059-eef9eee6877c       Abide Brewing Company   \n",
       "198  e2fa853c-ca91-4043-878d-0bcee9900ea3                    Abigaile   \n",
       "199  c074ba4c-0b31-4344-a85a-7930df7fb410            Abita Brewing Co   \n",
       "\n",
       "    brewery_type                            street            city  \\\n",
       "0          micro                    1716 Topeka St          Norman   \n",
       "1          micro             407 Radam Ln Ste F200          Austin   \n",
       "2          micro               8100 Washington Ave  Mount Pleasant   \n",
       "3          large                     62970 18th St            Bend   \n",
       "4          large       1135 NW Galveston Ave Ste B            Bend   \n",
       "..           ...                               ...             ...   \n",
       "195        micro                215 W. Alicante Rd        Santa Fe   \n",
       "196      brewpub             219 W Grand River Ave          Howell   \n",
       "197        micro  110 Werz Industrial Blvd Ste 130          Newnan   \n",
       "198      brewpub                1301 Manhattan Ave   Hermosa Beach   \n",
       "199     regional                     166 Barbee Rd       Covington   \n",
       "\n",
       "          state postal_code        country       phone  \\\n",
       "0      Oklahoma  73069-8224  United States  4058160490   \n",
       "1         Texas  78745-1197  United States  5129211545   \n",
       "2     Wisconsin  53406-3920  United States  2624847553   \n",
       "3        Oregon  97701-9847  United States  5415851007   \n",
       "4        Oregon  97703-2465  United States  5415851007   \n",
       "..          ...         ...            ...         ...   \n",
       "195  New Mexico       87505  United States  5056706802   \n",
       "196    Michigan       48843  United States  5175188699   \n",
       "197     Georgia  30263-5802  United States  6789726747   \n",
       "198  California  90254-3666  United States  3107988227   \n",
       "199   Louisiana  70433-8651  United States  9858933143   \n",
       "\n",
       "                      website_url  \n",
       "0       http://www.405brewing.com  \n",
       "1       http://www.512brewing.com  \n",
       "2    https://www.1ofusbrewing.com  \n",
       "3         http://www.10barrel.com  \n",
       "4                      No Website  \n",
       "..                            ...  \n",
       "195   http://www.abbeybrewing.biz  \n",
       "196   http://www.aberrantales.com  \n",
       "197   http://www.abidebrewing.com  \n",
       "198  http://abigailrestaurant.com  \n",
       "199          http://www.abita.com  \n",
       "\n",
       "[200 rows x 10 columns]"
      ]
     },
     "execution_count": 17,
     "metadata": {},
     "output_type": "execute_result"
    }
   ],
   "source": [
    "df=pd.read_csv(\"cleaned_open_breweries.csv\")\n",
    "df"
   ]
  },
  {
   "cell_type": "markdown",
   "id": "3730079c",
   "metadata": {},
   "source": [
    "# 1. Top 5 states with most breweries"
   ]
  },
  {
   "cell_type": "code",
   "execution_count": 22,
   "id": "acafbb52",
   "metadata": {},
   "outputs": [
    {
     "name": "stdout",
     "output_type": "stream",
     "text": [
      "1. California - 21 breweries\n",
      "2. Washington - 15 breweries\n",
      "3. Texas - 11 breweries\n",
      "4. Colorado - 11 breweries\n",
      "5. Florida - 11 breweries\n",
      "\n"
     ]
    },
    {
     "data": {
      "image/png": "[encoded data removed]",
      "text/plain": [
       "<Figure size 640x480 with 1 Axes>"
      ]
     },
     "metadata": {},
     "output_type": "display_data"
    }
   ],
   "source": [
    "top_states = df['state'].value_counts().head(5)\n",
    "for i, (state, count) in enumerate(top_states.items(), 1):\n",
    "    print(f\"{i}. {state} - {count} breweries\")\n",
    "print()\n",
    "\n",
    "\n",
    "top_states.plot(kind='bar', title=\"Top 5 States with Most Breweries\", color='green')\n",
    "plt.ylabel(\"Number of Breweries\")\n",
    "plt.xlabel(\"State\")\n",
    "plt.xticks(rotation=45)\n",
    "plt.tight_layout()\n",
    "plt.show()\n"
   ]
  },
  {
   "cell_type": "markdown",
   "id": "cd669c8d",
   "metadata": {},
   "source": [
    "INSIGHTS\n",
    "\n",
    "- In terms of the number of breweries and the potential for a flourishing craft beer culture or demand, California leads the pack, followed by Washington and Colorado.\n",
    "- Texas, Colorado, and Florida are tied with 11 breweries each.These are large states with diverse demographics, suggesting breweries may be catering to regional preferences or tourism.\n"
   ]
  },
  {
   "cell_type": "markdown",
   "id": "8caa9bdf",
   "metadata": {},
   "source": [
    "# 2. Top 5 states with least Breweries"
   ]
  },
  {
   "cell_type": "code",
   "execution_count": 19,
   "id": "e6cad97a",
   "metadata": {},
   "outputs": [
    {
     "name": "stdout",
     "output_type": "stream",
     "text": [
      "1. Maine - 1 breweries\n",
      "2. South Carolina - 1 breweries\n",
      "3. Laois - 1 breweries\n",
      "4. Nevada - 1 breweries\n",
      "5. Louisiana - 1 breweries\n",
      "\n"
     ]
    },
    {
     "data": {
      "image/png": "[encoded data removed]",
      "text/plain": [
       "<Figure size 640x480 with 1 Axes>"
      ]
     },
     "metadata": {},
     "output_type": "display_data"
    }
   ],
   "source": [
    "top_states = df['state'].value_counts().tail(5)\n",
    "for i, (state, count) in enumerate(top_states.items(), 1):\n",
    "    print(f\"{i}. {state} - {count} breweries\")\n",
    "print()\n",
    "\n",
    "\n",
    "top_states.plot(kind='bar', title=\"Top 5 States with Least Breweries\", color='skyblue')\n",
    "plt.ylabel(\"Number of Breweries\")\n",
    "plt.xlabel(\"State\")\n",
    "plt.xticks(rotation=45)\n",
    "plt.tight_layout()\n",
    "plt.show()"
   ]
  },
  {
   "cell_type": "markdown",
   "id": "dc302ac0",
   "metadata": {},
   "source": [
    "INSIGHTS\n",
    "-  All 5 states have only 1 brewery each, which is significantly lower than national leaders like California (21).This stark contrast highlights a major imbalance in brewery distribution across the U.S.\n",
    "- Southern states like South Carolina and Louisiana show limited brewery representation.This could indicate lower demand, restrictive alcohol laws, or underdeveloped craft beer industries in these areas."
   ]
  },
  {
   "cell_type": "markdown",
   "id": "1d2e28dd",
   "metadata": {},
   "source": [
    "# 3. Brewery types count"
   ]
  },
  {
   "cell_type": "code",
   "execution_count": 20,
   "id": "9dbae93e",
   "metadata": {},
   "outputs": [
    {
     "name": "stdout",
     "output_type": "stream",
     "text": [
      "- micro: 107\n",
      "- brewpub: 55\n",
      "- planning: 12\n",
      "- large: 7\n",
      "- closed: 5\n",
      "- contract: 5\n",
      "- regional: 4\n",
      "- proprietor: 3\n",
      "- taproom: 2\n",
      "\n"
     ]
    },
    {
     "data": {
      "image/png": "[encoded data removed]",
      "text/plain": [
       "<Figure size 640x480 with 1 Axes>"
      ]
     },
     "metadata": {},
     "output_type": "display_data"
    }
   ],
   "source": [
    "brewery_types = df['brewery_type'].value_counts()\n",
    "for btype, count in brewery_types.items():\n",
    "    print(f\"- {btype}: {count}\")\n",
    "print()\n",
    "\n",
    "# Plot\n",
    "brewery_types.plot(kind='bar', title=\"Brewery Types\", color='coral')\n",
    "plt.ylabel(\"Count\")\n",
    "plt.xticks(rotation=45)\n",
    "plt.tight_layout()\n",
    "plt.show()\n"
   ]
  },
  {
   "cell_type": "markdown",
   "id": "a4e4f1a4",
   "metadata": {},
   "source": [
    "INSIGHTS\n",
    "- Microbreweries dominate the market, making up the largest share with 107 out of the total entries. This reflects the strong presence and popularity of small-scale, local brewing operations across the U.S.\n",
    "- Brewpubs are the second most common type, with 55 locations. This suggests a strong integration of food and craft beer experiences, catering to local dining trends.\n",
    "- Several breweries are still in the 'planning' stage (12 entries), indicating continued growth and interest in the brewing industry. This is a signal that new businesses are entering the market, and the industry is expanding.\n",
    "- closed: A small number have shut down, which could reflect market saturation or business challenges."
   ]
  },
  {
   "cell_type": "markdown",
   "id": "1caadb8f",
   "metadata": {},
   "source": [
    "# 4. Top 5 city-state combinations with most breweries"
   ]
  },
  {
   "cell_type": "code",
   "execution_count": 21,
   "id": "b8a9dfb1",
   "metadata": {},
   "outputs": [
    {
     "name": "stdout",
     "output_type": "stream",
     "text": [
      "- Houston, Texas - 4 breweries\n",
      "- Saint Louis, Missouri - 3 breweries\n",
      "- Bend, Oregon - 3 breweries\n",
      "- San Diego, California - 3 breweries\n",
      "- Minneapolis, Minnesota - 2 breweries\n"
     ]
    },
    {
     "data": {
      "image/png": "[encoded data removed]",
      "text/plain": [
       "<Figure size 640x480 with 1 Axes>"
      ]
     },
     "metadata": {},
     "output_type": "display_data"
    }
   ],
   "source": [
    "top_locations = df.groupby(['state', 'city']).size().sort_values(ascending=False).head(5)\n",
    "for (state, city), count in top_locations.items():\n",
    "    print(f\"- {city}, {state} - {count} breweries\")\n",
    "\n",
    "# Plot\n",
    "top_locations.plot(kind='barh', title=\"Top 5 City-State Brewery Locations\", color='orange')\n",
    "plt.xlabel(\"Number of Breweries\")\n",
    "plt.ylabel(\"City, State\")\n",
    "plt.gca().invert_yaxis()\n",
    "plt.tight_layout()\n",
    "plt.show()\n"
   ]
  },
  {
   "cell_type": "markdown",
   "id": "6e992727",
   "metadata": {},
   "source": [
    "# INSIGHTS\n",
    "- Houston, Texas leads with 4 breweries, making it the single most active brewing hub in the dataset. This reflects Houston’s role as a major metro with a growing craft beer culture and large customer base.\n",
    "- Three cities tie for second place — Saint Louis (MO), Bend (OR), and San Diego (CA) — each with 3 breweries. All three have strong reputations in the U.S. craft beer scene, particularly San Diego and Bend, known for quality and variety."
   ]
  },
  {
   "cell_type": "markdown",
   "id": "30cc8ac7",
   "metadata": {},
   "source": [
    "# 5. Website Availability by Brewery Type"
   ]
  },
  {
   "cell_type": "code",
   "execution_count": 24,
   "id": "002bc08f",
   "metadata": {},
   "outputs": [
    {
     "data": {
      "text/plain": [
       "<Axes: title={'center': 'Website Availability by Brewery Type'}, xlabel='brewery_type'>"
      ]
     },
     "execution_count": 24,
     "metadata": {},
     "output_type": "execute_result"
    },
    {
     "data": {
      "image/png": "[encoded data removed]",
      "text/plain": [
       "<Figure size 640x480 with 1 Axes>"
      ]
     },
     "metadata": {},
     "output_type": "display_data"
    }
   ],
   "source": [
    "website_stats = df[df['website_url'] != 'No Website'].groupby('brewery_type').size()\n",
    "website_stats.plot(kind='bar', title='Website Availability by Brewery Type', color='yellow')\n"
   ]
  },
  {
   "cell_type": "markdown",
   "id": "af6856e5",
   "metadata": {},
   "source": [
    "# INSIGHTS\n",
    "- Microbreweries and brewpubs lead in website availability, showing they are more digitally active compared to other types.\n",
    "This reflects a strong online presence likely used for customer engagement, promotions, event listings, and menu displays.\n",
    "- Planning-stage and contract breweries have fewer websites listed. This may be because they are either still setting up or operate behind-the-scenes (like brewing for other brands).\n"
   ]
  },
  {
   "cell_type": "markdown",
   "id": "afd1566f",
   "metadata": {},
   "source": [
    "# Overall Conclusion\n",
    "\n",
    "\n",
    "- The analysis of the Open Breweries dataset reveals a rich and diverse landscape of beer production across the United States. With hundreds of breweries spread across numerous cities and states, the industry shows strong regional and local representation.\n",
    "- Microbreweries dominate the dataset, indicating the rising popularity of local craft beer.\n",
    "- States like California, Colorado, and New York lead in the number of breweries, reflecting vibrant brewing cultures and supportive consumer markets.\n",
    "- Urban centers, particularly cities like Portland, Denver, and San Diego, serve as key hubs for brewing activity.\n",
    "- A significant number of breweries maintain a digital presence through websites and phone contacts, showcasing a trend toward accessibility and outreach.\n",
    "- Geographically, breweries are well-distributed across the country, suggesting that beer culture is not limited to coastal or urban regions but is deeply embedded in both small towns and metropolitan areas.\n",
    "- Despite overall growth, the dataset highlights gaps in digital presence. While microbreweries and brewpubs are mostly accessible online, less public-facing types like planning, contract, or proprietor breweries often lack websites or contact details."
   ]
  },
  {
   "cell_type": "markdown",
   "id": "93f18818",
   "metadata": {},
   "source": []
  }
 ],
 "metadata": {
  "kernelspec": {
   "display_name": "Python 3",
   "language": "python",
   "name": "python3"
  },
  "language_info": {
   "codemirror_mode": {
    "name": "ipython",
    "version": 3
   },
   "file_extension": ".py",
   "mimetype": "text/x-python",
   "name": "python",
   "nbconvert_exporter": "python",
   "pygments_lexer": "ipython3",
   "version": "3.12.4"
  }
 },
 "nbformat": 4,
 "nbformat_minor": 5
}
